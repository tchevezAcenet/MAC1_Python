{
 "cells": [
  {
   "cell_type": "markdown",
   "id": "ec1d86d9-482b-4bf6-8af9-f0170c8ec5e6",
   "metadata": {},
   "source": [
    "# Python (Part 3)\n",
    "\n",
    "In this section, you'll build a solid foundation in Python programming by exploring key concepts and structures. You'll learn the differences between *lists* and *tuples*, how to work effectively with *dictionaries*, and how to use for loops to repeat actions and process data. You'll also practice tracing loops to understand how variables change during each iteration. Along the way, you'll write programs that make decisions using *if* and *else* statements with simple Boolean logic. Finally, you'll get comfortable with *functions*, understanding the difference between defining and calling them, and writing your own functions that take specific inputs and return results.\n"
   ]
  },
  {
   "cell_type": "markdown",
   "id": "b237106d-2515-4914-ba50-9b2243134273",
   "metadata": {},
   "source": [
    "## Tuples\n",
    "Tuples are used to store multiple items in a single variable. Tuple is one of the main built-in data types in Python used to store collections of data like a list. A tuple is a collection which is ordered and unchangeable. Tuple items much like list items are indexed, the first item has index [0], the second item has index [1] etc. Since tuples are indexed, they can have items with the same value. Tuples are also ordered which means that the items have a defined order and that order will not change. "
   ]
  },
  {
   "cell_type": "code",
   "execution_count": 1,
   "id": "f6b4bb81-777c-4399-a1e0-5f9b0a205e2f",
   "metadata": {},
   "outputs": [
    {
     "name": "stdout",
     "output_type": "stream",
     "text": [
      "Print entire tuple: ('toyota', 'honda', 'ferrari')\n",
      "2nd element: honda\n"
     ]
    }
   ],
   "source": [
    "tuple_cars = ('toyota','honda','ferrari')\n",
    "print(\"Print entire tuple:\", tuple_cars)\n",
    "print(\"2nd element:\", tuple_cars[1])"
   ]
  },
  {
   "cell_type": "markdown",
   "id": "e31144f5-fe74-420c-b25c-eaf796498873",
   "metadata": {},
   "source": [
    "Unlike lists, tuples are unchangeable which means that we cannot change, add or remove items after the tuple has been created."
   ]
  },
  {
   "cell_type": "code",
   "execution_count": 2,
   "id": "82caa8c1-3193-4db3-abea-d0af97982ba4",
   "metadata": {},
   "outputs": [
    {
     "ename": "TypeError",
     "evalue": "'tuple' object does not support item assignment",
     "output_type": "error",
     "traceback": [
      "\u001b[0;31m---------------------------------------------------------------------------\u001b[0m",
      "\u001b[0;31mTypeError\u001b[0m                                 Traceback (most recent call last)",
      "Cell \u001b[0;32mIn[2], line 1\u001b[0m\n\u001b[0;32m----> 1\u001b[0m tuple_cars[\u001b[38;5;241m1\u001b[39m] \u001b[38;5;241m=\u001b[39m \u001b[38;5;124m'\u001b[39m\u001b[38;5;124mlamborghini\u001b[39m\u001b[38;5;124m'\u001b[39m\n",
      "\u001b[0;31mTypeError\u001b[0m: 'tuple' object does not support item assignment"
     ]
    }
   ],
   "source": [
    "tuple_cars[1] = 'lamborghini'"
   ]
  },
  {
   "cell_type": "markdown",
   "id": "cf909aed-3570-4859-bb8f-8c42adfdb8e4",
   "metadata": {},
   "source": [
    "**Note:**\n",
    "- Tuples are written with round brackets.\n",
    "- Tuples are ordered.\n",
    "- Unlike lists, tuple items are unchangeable (immutable).\n",
    "\n",
    "Just like with other Python data types such as lists and strings, we can determine how many items comprise a tuple using the len() function.\n"
   ]
  },
  {
   "cell_type": "code",
   "execution_count": 3,
   "id": "7e998619-4889-49cb-8a11-3e04757f1215",
   "metadata": {},
   "outputs": [
    {
     "name": "stdout",
     "output_type": "stream",
     "text": [
      "3\n"
     ]
    }
   ],
   "source": [
    "print(len(tuple_cars))"
   ]
  },
  {
   "cell_type": "markdown",
   "id": "c0eceb93-c38a-478d-936d-52a7a341f0c4",
   "metadata": {},
   "source": [
    "A tuple can contain different data types."
   ]
  },
  {
   "cell_type": "code",
   "execution_count": 10,
   "id": "40760504-e758-4c36-ba14-ea9864eb2767",
   "metadata": {},
   "outputs": [
    {
     "name": "stdout",
     "output_type": "stream",
     "text": [
      "[3, 1, 0]\n"
     ]
    }
   ],
   "source": [
    "tuple_stuff = ('toyota',5.1,[3,1,0])\n",
    "print(tuple_stuff[-1])"
   ]
  },
  {
   "cell_type": "markdown",
   "id": "1a90dff9-275d-4b6e-be81-b8f14df78a07",
   "metadata": {},
   "source": [
    "The tuple object has two built in methods: **count()** and **index()**."
   ]
  },
  {
   "cell_type": "code",
   "execution_count": 13,
   "id": "8e4803fb-aef7-4343-b911-7049d2b1235f",
   "metadata": {},
   "outputs": [
    {
     "name": "stdout",
     "output_type": "stream",
     "text": [
      "occurances of 5: 2\n",
      "index of 3: 1\n"
     ]
    }
   ],
   "source": [
    "tuple_numbers = (5,3,5,2,1,-1,3)\n",
    "print(\"occurances of 5:\",tuple_numbers.count(5))\n",
    "print(\"index of 3:\", tuple_numbers.index(3))"
   ]
  },
  {
   "cell_type": "markdown",
   "id": "450d645c-364d-4337-b06e-0d12e32803b8",
   "metadata": {},
   "source": [
    "### Exercise 1.1\n",
    "- Using the following tuple of \"Norris trophy winners\":\n",
    "- Calculate the number of occurrences of 'Karlsson'\n",
    "- Print the name of the player who won the Norris in the third most recent year."
   ]
  },
  {
   "cell_type": "code",
   "execution_count": 15,
   "id": "21a97af0-dbd2-4ab0-ac47-e51a4b7aa2b0",
   "metadata": {},
   "outputs": [
    {
     "name": "stdout",
     "output_type": "stream",
     "text": [
      "Count of occurances of 'Karlsson:' 3\n",
      "3rd most recent winner: Fox\n"
     ]
    }
   ],
   "source": [
    "# list of most recent Norris trophy winners (best defenseman in the NHL)\n",
    "norris_winners = ('Karlsson','Subban','Keith',\n",
    "                 'Karlsson','Doughty','Burns',\n",
    "                 'Hedman','Giordano','Josi',\n",
    "                 'Fox','Makar','Karlsson')\n",
    "print(\"Count of occurances of 'Karlsson:'\", norris_winners.count('Karlsson'))\n",
    "print(\"3rd most recent winner:\", norris_winners[-3])"
   ]
  },
  {
   "cell_type": "markdown",
   "id": "5a1613ad-2b9d-4ae6-a7d3-0b42d370dc89",
   "metadata": {},
   "source": [
    "### Dictionaries \n",
    "A **dictionary** in Python is a collection of ***key-value pairs***, similar to how a real dictionary has words (keys) and their meanings (values). Each key in a dictionary must be unique, and you can use it to access its corresponding value. Dictionaries are defined using curly braces {}."
   ]
  },
  {
   "cell_type": "code",
   "execution_count": 16,
   "id": "3839e3bc-c6b0-4bff-b4a2-ab02de1aab0c",
   "metadata": {},
   "outputs": [
    {
     "data": {
      "text/plain": [
       "{'name': 'Alex Johnson', 'age': 20, 'grade': 88.5, 'major': 'Computer Science'}"
      ]
     },
     "execution_count": 16,
     "metadata": {},
     "output_type": "execute_result"
    }
   ],
   "source": [
    "student_data = {\n",
    "    \"name\":\"Alex Johnson\",\n",
    "    \"age\": 20,\n",
    "    \"grade\": 88.5,\n",
    "    \"major\": \"Computer Science\"\n",
    "}\n",
    "student_data"
   ]
  },
  {
   "cell_type": "markdown",
   "id": "efef4ec2-29b6-462e-9600-467c349d4eba",
   "metadata": {},
   "source": [
    "In this example, we have a dictionary called student_data that stores various pieces of information about a student's academic details."
   ]
  },
  {
   "cell_type": "markdown",
   "id": "93f428a8-9d29-40b1-a7eb-1b7ec4c7a601",
   "metadata": {},
   "source": [
    "#### Using Dictionaries:\n",
    "\n",
    "**1. Accessing Values:** You can retrieve a value using its corresponding key."
   ]
  },
  {
   "cell_type": "code",
   "execution_count": 24,
   "id": "e36f6321-289b-4908-8486-61ae0f49171c",
   "metadata": {},
   "outputs": [
    {
     "data": {
      "text/plain": [
       "88.5"
      ]
     },
     "execution_count": 24,
     "metadata": {},
     "output_type": "execute_result"
    }
   ],
   "source": [
    "current_grade = student_data[\"grade\"]\n",
    "current_grade"
   ]
  },
  {
   "cell_type": "markdown",
   "id": "4775ad31-0d5a-42d7-b274-f2805ef3b040",
   "metadata": {},
   "source": [
    "**2. Adding or Modifying Values:** You can easily add new key-value pairs or modify existing ones:"
   ]
  },
  {
   "cell_type": "code",
   "execution_count": 25,
   "id": "4fab999d-b59c-402b-8da0-d522ee0aa122",
   "metadata": {},
   "outputs": [
    {
     "data": {
      "text/plain": [
       "{'name': 'Alex Johnson', 'age': 20, 'grade': 92.0, 'major': 'Computer Science'}"
      ]
     },
     "execution_count": 25,
     "metadata": {},
     "output_type": "execute_result"
    }
   ],
   "source": [
    "#Modify Existing one\n",
    "student_data[\"grade\"] = 92.0\n",
    "student_data"
   ]
  },
  {
   "cell_type": "code",
   "execution_count": 26,
   "id": "6349e084-98d7-438f-85a2-9e9ea1db5ca1",
   "metadata": {},
   "outputs": [
    {
     "data": {
      "text/plain": [
       "{'name': 'Alex Johnson',\n",
       " 'age': 20,\n",
       " 'grade': 92.0,\n",
       " 'major': 'Computer Science',\n",
       " 'attendance': 95}"
      ]
     },
     "execution_count": 26,
     "metadata": {},
     "output_type": "execute_result"
    }
   ],
   "source": [
    "#Adding new key-value pair\n",
    "student_data[\"attendance\"] = 95\n",
    "student_data"
   ]
  },
  {
   "cell_type": "markdown",
   "id": "016ead19-e6df-42d2-a039-3beb40096e11",
   "metadata": {},
   "source": [
    "**3. Removing Key-Value Pairs:** You can remove a key-value pair using the **del** statement:"
   ]
  },
  {
   "cell_type": "code",
   "execution_count": 27,
   "id": "89427a58-200e-4819-a73d-2338fa94cb75",
   "metadata": {},
   "outputs": [
    {
     "data": {
      "text/plain": [
       "{'name': 'Alex Johnson', 'age': 20, 'grade': 92.0, 'attendance': 95}"
      ]
     },
     "execution_count": 27,
     "metadata": {},
     "output_type": "execute_result"
    }
   ],
   "source": [
    "del student_data[\"major\"]\n",
    "student_data"
   ]
  },
  {
   "cell_type": "markdown",
   "id": "df2c50f7-c283-4519-969a-58b18093b9bc",
   "metadata": {},
   "source": [
    "Now, let’s expand this dictionary to include more details by combining dictionaries and lists. We can represent multiple subjects with their scores and attendance records, offering a detailed view of the student’s academic performance."
   ]
  },
  {
   "cell_type": "code",
   "execution_count": 29,
   "id": "5b7ea326-578d-4524-b8f9-576049501a04",
   "metadata": {},
   "outputs": [],
   "source": [
    "student_data_extension = {\n",
    "    \"name\": \"Alex Johnson\",\n",
    "    \"subjects\": [\n",
    "        {\"subject\": \"Math\", \"score\":85.0, \"attendance\":90},\n",
    "        {\"subject\": \"English\", \"score\":88.5, \"attendance\":95},\n",
    "        {\"subject\": \"Science\", \"score\": 92.0, \"attendance\": 85}\n",
    "    ]\n",
    "}"
   ]
  },
  {
   "cell_type": "markdown",
   "id": "9c42eb64-9722-4a10-81eb-4a2b0b9dea97",
   "metadata": {},
   "source": [
    "The **student_data_extension** example is a well-organized way to store information about a student's academic performance using a dictionary with a list of dictionaries inside. The main dictionary contains keys for the student's name and a list of subject records (each with details like score, attendance, and project information).\n",
    "\n",
    "This structure is beneficial because it keeps related information together, making it easy to find and update data. The use of a list allows for multiple subjects to be stored in order, while each subject's details are kept in their own dictionary.\n",
    "\n",
    "This combination of lists and dictionaries makes it simple to manage complex datasets in education and reflects how we naturally group information in real life"
   ]
  },
  {
   "cell_type": "markdown",
   "id": "12fb6cc4-b0a9-46eb-bf7b-adc4ba167fa0",
   "metadata": {},
   "source": [
    "**Accessing Top-Level Data**\n",
    "\n",
    "***1. Access the Name:***\n",
    "To get the name of the student from the data, you can use the key \"name\":"
   ]
  },
  {
   "cell_type": "code",
   "execution_count": 30,
   "id": "a483d97e-fc18-40ba-8227-cd1837a265b3",
   "metadata": {},
   "outputs": [
    {
     "data": {
      "text/plain": [
       "'Alex Johnson'"
      ]
     },
     "execution_count": 30,
     "metadata": {},
     "output_type": "execute_result"
    }
   ],
   "source": [
    "name = student_data_extension[\"name\"]\n",
    "name"
   ]
  },
  {
   "cell_type": "markdown",
   "id": "d3da96ed-0699-49c9-b467-f766cb0d9a39",
   "metadata": {},
   "source": [
    "**Accessing Data from the Samples List**\n",
    "\n",
    "***2.Access the Subjects:***\n",
    "The \"subjects\" key points to a list of subject dictionaries. To access this list, you would do:"
   ]
  },
  {
   "cell_type": "code",
   "execution_count": 32,
   "id": "891d9b01-5809-4df6-b96b-3aa26ef1281f",
   "metadata": {},
   "outputs": [
    {
     "data": {
      "text/plain": [
       "[{'subject': 'Math', 'score': 85.0, 'attendance': 90},\n",
       " {'subject': 'English', 'score': 88.5, 'attendance': 95},\n",
       " {'subject': 'Science', 'score': 92.0, 'attendance': 85}]"
      ]
     },
     "execution_count": 32,
     "metadata": {},
     "output_type": "execute_result"
    }
   ],
   "source": [
    "subjects = student_data_extension[\"subjects\"]\n",
    "subjects"
   ]
  },
  {
   "cell_type": "markdown",
   "id": "3726e4a2-665e-4c35-9e5f-a9eb0017c0d4",
   "metadata": {},
   "source": [
    "**3. Access Individual Subjects:**\n",
    "\n",
    "Each subject in the list can be accessed using its index (position in the list). Remember that Python uses zero-based indexing.\n",
    "\n",
    "For example, to access the first subject:"
   ]
  },
  {
   "cell_type": "code",
   "execution_count": 34,
   "id": "86eb0ee5-77f1-435e-a380-e9954a40e3f8",
   "metadata": {},
   "outputs": [
    {
     "data": {
      "text/plain": [
       "{'subject': 'Math', 'score': 85.0, 'attendance': 90}"
      ]
     },
     "execution_count": 34,
     "metadata": {},
     "output_type": "execute_result"
    }
   ],
   "source": [
    "first_subject = student_data_extension[\"subjects\"][0]\n",
    "first_subject "
   ]
  },
  {
   "cell_type": "code",
   "execution_count": 35,
   "id": "52270a97-9c42-4805-9ed1-993a29f0e271",
   "metadata": {},
   "outputs": [
    {
     "data": {
      "text/plain": [
       "{'subject': 'Math', 'score': 85.0, 'attendance': 90}"
      ]
     },
     "execution_count": 35,
     "metadata": {},
     "output_type": "execute_result"
    }
   ],
   "source": [
    "subjects[0]"
   ]
  },
  {
   "cell_type": "markdown",
   "id": "22b1665f-8997-4792-bfa8-310b43edd843",
   "metadata": {},
   "source": [
    "**4. Access Specific Data in a Subject:**\n",
    "\n",
    "You can also directly access specific details within a subject. For example, to get the score of the second subject:"
   ]
  },
  {
   "cell_type": "code",
   "execution_count": 36,
   "id": "ae259c70-4834-4b86-85de-f53f86dc43ac",
   "metadata": {},
   "outputs": [
    {
     "data": {
      "text/plain": [
       "88.5"
      ]
     },
     "execution_count": 36,
     "metadata": {},
     "output_type": "execute_result"
    }
   ],
   "source": [
    "second_subject_score = student_data_extension[\"subjects\"][1][\"score\"]\n",
    "second_subject_score "
   ]
  },
  {
   "cell_type": "code",
   "execution_count": 37,
   "id": "cf1b3fe7-b980-462b-9a7b-d0fc707e42fc",
   "metadata": {},
   "outputs": [
    {
     "data": {
      "text/plain": [
       "88.5"
      ]
     },
     "execution_count": 37,
     "metadata": {},
     "output_type": "execute_result"
    }
   ],
   "source": [
    "subjects[1][\"score\"]"
   ]
  },
  {
   "cell_type": "code",
   "execution_count": 38,
   "id": "f62a911a-eea2-4300-99b5-31ad95b6edbc",
   "metadata": {},
   "outputs": [
    {
     "data": {
      "text/plain": [
       "88.5"
      ]
     },
     "execution_count": 38,
     "metadata": {},
     "output_type": "execute_result"
    }
   ],
   "source": [
    "second_subject = subjects[1]\n",
    "second_subject[\"score\"]"
   ]
  },
  {
   "cell_type": "markdown",
   "id": "e8f722b5-c657-4677-8d27-af9bd7b473d8",
   "metadata": {},
   "source": [
    "**5. Access Score and Attendance:**\n",
    "\n",
    "Similarly, you can access the score and attendance of any subject. For example, to get the attendance of the third subject:"
   ]
  },
  {
   "cell_type": "code",
   "execution_count": 41,
   "id": "200e684b-8e55-4332-acdc-13f2448abb71",
   "metadata": {},
   "outputs": [
    {
     "data": {
      "text/plain": [
       "85"
      ]
     },
     "execution_count": 41,
     "metadata": {},
     "output_type": "execute_result"
    }
   ],
   "source": [
    "third_subject_attendance = student_data_extension[\"subjects\"][2][\"attendance\"]\n",
    "third_subject_attendance"
   ]
  },
  {
   "cell_type": "code",
   "execution_count": 43,
   "id": "b983f92f-acac-4ac5-8ea7-2bb752e91b46",
   "metadata": {},
   "outputs": [
    {
     "data": {
      "text/plain": [
       "92.0"
      ]
     },
     "execution_count": 43,
     "metadata": {},
     "output_type": "execute_result"
    }
   ],
   "source": [
    "third_subject_score = student_data_extension[\"subjects\"][2][\"score\"]\n",
    "third_subject_score"
   ]
  },
  {
   "cell_type": "markdown",
   "id": "c2781e8f-c12e-4783-b305-4d36f59543b1",
   "metadata": {},
   "source": [
    "To access data in the student_data_extension dictionary, you use the keys to reach the specific pieces of information you need. You can start with top-level keys like \"name\" and then drill down into lists and dictionaries, using indices and additional keys to get to the exact data point you’re interested in. This method allows for easy retrieval and manipulation of structured data."
   ]
  },
  {
   "cell_type": "markdown",
   "id": "62acaf20-5627-4cba-a70d-ab128d727acc",
   "metadata": {},
   "source": [
    "## Conditionals\n",
    "Python supports the usual logical conditions from mathematics:\n",
    "\n",
    "- Equals: a == b\n",
    "- Not Equals: a != b\n",
    "- Less than: a < b\n",
    "- Less than or equal to: a <= b\n",
    "- Greater than: a > b\n",
    "- Greater than or equal to: a >= b\n",
    "\n",
    "These conditions can be used in several ways, most commonly in \"if statements\" and loops. An \"if statement\" is written by using the if keyword:"
   ]
  },
  {
   "cell_type": "code",
   "execution_count": 47,
   "id": "1151d050-4b73-4412-a9fa-88f82397bdd1",
   "metadata": {},
   "outputs": [
    {
     "name": "stdout",
     "output_type": "stream",
     "text": [
      "b is not greater than a\n"
     ]
    }
   ],
   "source": [
    "a = 200\n",
    "b = 200\n",
    "\n",
    "if b > a:\n",
    "    print(\"b is greater than a\")\n",
    "else: \n",
    "    print(\"b is not greater than a\")"
   ]
  },
  {
   "cell_type": "markdown",
   "id": "32d8f7f4-71d1-4221-86b0-39e3e820c42f",
   "metadata": {},
   "source": [
    "In this example we use two variables, a and b, which are used as part of the if statement to test whether b is greater than a. As a is 33, and b is 200, we know that 200 is greater than 33, and so we print to screen that \"b is greater than a\".\n",
    "\n",
    "An **if** statement (more properly called a conditional statement) controls whether some block of code is executed or not. Structure is similar to a **for** statement, as the first line opens with if and ends with a colon, and the body containing one or more statements is indented (usually by 4 spaces).\n",
    "\n",
    "**Note:**\n",
    "\n",
    "- An if statement (more properly called a conditional statement) controls whether some block of code is executed or not.\n",
    "- Structure is similar to a for statement, as the first line opens with if and ends with a colon, and the body containing one or more statements is indented (usually by 4 spaces)."
   ]
  },
  {
   "cell_type": "code",
   "execution_count": 54,
   "id": "25b8b34f-b16a-4c2d-8880-6ba07f3ca3e0",
   "metadata": {},
   "outputs": [
    {
     "name": "stdout",
     "output_type": "stream",
     "text": [
      "grade is B\n"
     ]
    }
   ],
   "source": [
    "grade = 85\n",
    "\n",
    "if grade >= 70 and grade < 80:\n",
    "    print(\"grade is C\")\n",
    "elif grade >= 80 and grade < 90:\n",
    "    print(\"grade is B\")\n",
    "elif grade >= 90 and grade <=100:\n",
    "    print(\"grade is A\")\n",
    "else:\n",
    "    print(\"Invalid Grade\")"
   ]
  },
  {
   "cell_type": "markdown",
   "id": "2992ee04-849a-4555-8ffe-33cf361f7742",
   "metadata": {},
   "source": [
    "You can have if statements inside if statements, this is called nested if statements:"
   ]
  },
  {
   "cell_type": "code",
   "execution_count": 51,
   "id": "1a13ac0e-103a-4e67-a836-fceb9d0eeb52",
   "metadata": {},
   "outputs": [
    {
     "name": "stdout",
     "output_type": "stream",
     "text": [
      "Above ten\n",
      "but not above 20\n"
     ]
    }
   ],
   "source": [
    "x = 19\n",
    "\n",
    "if x > 10:\n",
    "    print(\"Above ten\")\n",
    "    if x > 20:\n",
    "        print(\"and also above 20\")\n",
    "    else:\n",
    "        print(\"but not above 20\")"
   ]
  },
  {
   "cell_type": "markdown",
   "id": "0c9c8321-3d6a-4284-9505-61ebeb2f4b4f",
   "metadata": {},
   "source": [
    "### Exercise 3.1\n",
    "\n",
    "Write Python code to ask the user for a score out of 100, and then output the equivalent letter grade (90 and up is an A, 80 to 89 is a B, 70 to 79 is a C, 60 to 69 is a D, 59 and lower is a fail)"
   ]
  },
  {
   "cell_type": "code",
   "execution_count": 23,
   "id": "4a898cdb-e43f-4b89-86d4-b2adbc70ed78",
   "metadata": {},
   "outputs": [],
   "source": [
    "#Your code goes here"
   ]
  },
  {
   "cell_type": "markdown",
   "id": "47fc80bd-e489-4ea5-9587-785979256ed3",
   "metadata": {},
   "source": [
    "## Loops\n",
    "\n",
    "\n",
    "The two types of loops in Python are *for* loops and *while* loops. *for* loops are generally more common so we will elaborate on those first.  A *for* loop is used for iterating over a sequence (that is either a list, a tuple, a dictionary, a set, or a string). Doing calculations on the values in a list or tuple one by one is as painful as working with pressure_001, pressure_002, etc. A *for* loop tells Python to execute some statements once for each value in a list, a character string, or some other collection. It tells Python that for each thing in this group, do these operations.\n"
   ]
  },
  {
   "cell_type": "code",
   "execution_count": 60,
   "id": "63c0bd21-648f-462d-b4d2-db716e26a06b",
   "metadata": {},
   "outputs": [
    {
     "name": "stdout",
     "output_type": "stream",
     "text": [
      "b\n",
      "-3.14\n",
      "['halifax', 'nova scotia']\n"
     ]
    }
   ],
   "source": [
    "list_loop = ['b',-3.14,['halifax','nova scotia']]\n",
    "\n",
    "for item in list_loop:\n",
    "    print(item)"
   ]
  },
  {
   "cell_type": "markdown",
   "id": "24986f63-c4c0-4412-8300-528cc244b90c",
   "metadata": {},
   "source": [
    "This for loop is equivalent to:"
   ]
  },
  {
   "cell_type": "code",
   "execution_count": 56,
   "id": "9dfbd6cf-bf16-4d82-a305-351a9780adfc",
   "metadata": {},
   "outputs": [
    {
     "name": "stdout",
     "output_type": "stream",
     "text": [
      "b\n",
      "-3.14\n",
      "['halifax', 'nova scotia']\n"
     ]
    }
   ],
   "source": [
    "print('b')\n",
    "print(-3.14)\n",
    "print(['halifax','nova scotia'])"
   ]
  },
  {
   "cell_type": "code",
   "execution_count": 57,
   "id": "e25cadef-bfe5-49bb-ac19-1ad0a6e07ccb",
   "metadata": {},
   "outputs": [
    {
     "name": "stdout",
     "output_type": "stream",
     "text": [
      "b\n",
      "-3.14\n",
      "['halifax', 'nova scotia']\n"
     ]
    }
   ],
   "source": [
    "print(list_loop[0])\n",
    "print(list_loop[1])\n",
    "print(list_loop[2])"
   ]
  },
  {
   "cell_type": "markdown",
   "id": "adcf405b-5e87-4e4b-b10d-8d3a35eff1bd",
   "metadata": {},
   "source": [
    "A for loop is made up of a collection, a loop variable, and a body. In the above example, list_loop is the collection, item is the loop variable, and print() is the body. The loop variable, number in this example, is what changes for each iteration of the loop or the current thing that is being counted. Note that the colon at the end of the first line signals the start of a block of statements. Python uses indentation rather than {} or begin/end to show nesting. Any consistent indentation is legal, but almost everyone uses four spaces.\n",
    "\n",
    "Similar to all variables, loop variables are created on demand and their name can be anything."
   ]
  },
  {
   "cell_type": "code",
   "execution_count": 61,
   "id": "56c417b4-7f2b-4224-be22-0a3d3c38eba7",
   "metadata": {},
   "outputs": [
    {
     "name": "stdout",
     "output_type": "stream",
     "text": [
      "1\n",
      "2\n",
      "6\n"
     ]
    }
   ],
   "source": [
    "for halifax in [1,2,6]:\n",
    "    print(halifax)"
   ]
  },
  {
   "cell_type": "markdown",
   "id": "02f4b6d4-bbd5-47f9-85a9-41f7d565705e",
   "metadata": {},
   "source": [
    "The body of a loop can contain many statements:"
   ]
  },
  {
   "cell_type": "code",
   "execution_count": 64,
   "id": "8fd6c3c4-2857-4948-9743-ca6560fcb0a8",
   "metadata": {},
   "outputs": [
    {
     "name": "stdout",
     "output_type": "stream",
     "text": [
      "2 4 8\n",
      "3 9 27\n",
      "5 25 125\n"
     ]
    }
   ],
   "source": [
    "primes = [2,3,5]\n",
    "for p in primes:\n",
    "    squared = p ** 2\n",
    "    cubed = p ** 3\n",
    "    print(p,squared,cubed)"
   ]
  },
  {
   "cell_type": "markdown",
   "id": "ff48aecf-7f95-4f3f-a9f6-02a237d1b2a2",
   "metadata": {},
   "source": [
    "The built-in function *range()* produces a sequence of numbers. The numbers are produced on demand to make looping over large ranges more efficient (it’s not a list!). It means range(N) produces the numbers 0...N-1."
   ]
  },
  {
   "cell_type": "code",
   "execution_count": 67,
   "id": "2a2837cb-1a8e-4ead-b745-7fbcfe2fef00",
   "metadata": {},
   "outputs": [
    {
     "name": "stdout",
     "output_type": "stream",
     "text": [
      "0\n",
      "1\n",
      "2\n"
     ]
    }
   ],
   "source": [
    "# range(A,B) will give you the range [A,B - 1]\n",
    "for number in range(0,3):\n",
    "    print(number)"
   ]
  },
  {
   "cell_type": "markdown",
   "id": "4667baff-653c-4439-be15-b8d9cf400023",
   "metadata": {},
   "source": [
    "A common application of a for loop is for accumulation. In this application, we need to initialize an accumulator variable to zero, the empty string, or the empty list, and then update the variable with values from a collection:"
   ]
  },
  {
   "cell_type": "code",
   "execution_count": 71,
   "id": "e3e5c203-e998-4ddf-9901-157075e9cfd3",
   "metadata": {},
   "outputs": [
    {
     "name": "stdout",
     "output_type": "stream",
     "text": [
      "adding 1 to total\n",
      "adding 2 to total\n",
      "adding 3 to total\n",
      "adding 4 to total\n",
      "adding 5 to total\n",
      "adding 6 to total\n",
      "adding 7 to total\n",
      "adding 8 to total\n",
      "adding 9 to total\n",
      "adding 10 to total\n",
      "Total sum =  55\n"
     ]
    }
   ],
   "source": [
    "# sum the first 10 integers.\n",
    "total = 0\n",
    "for i in range(1,11):\n",
    "    print(f\"adding {i} to total\")\n",
    "    total = total + i\n",
    "print(\"Total sum = \", total)"
   ]
  },
  {
   "cell_type": "markdown",
   "id": "d0dbeb4a-fc7a-4661-863b-68b698f91d18",
   "metadata": {},
   "source": [
    "Here *total = total + i* adds the current loop variable to the running total. A shorthand for adding a variable to itself is *total += i* which is completely equivalent to *total = total + i*. This can also be done with multiplication and subtraction.\n",
    "\n",
    "With the break statement, we can stop the loop before it has looped through all the items. This is commonly combined with conditional statements:"
   ]
  },
  {
   "cell_type": "code",
   "execution_count": 72,
   "id": "6dcf1338-3df5-4de7-a127-8231cd8d5197",
   "metadata": {},
   "outputs": [
    {
     "name": "stdout",
     "output_type": "stream",
     "text": [
      "4.3\n",
      "5.1\n",
      "3.15\n",
      "2.0\n",
      "less than pi! ending loop\n"
     ]
    }
   ],
   "source": [
    "mass_kg = [4.3,5.1,3.15,2.0,6.7]\n",
    "pi = 3.14159\n",
    "\n",
    "for k in mass_kg:\n",
    "    print(k)\n",
    "    if k < pi:\n",
    "        print(\"less than pi! ending loop\")\n",
    "        break"
   ]
  },
  {
   "cell_type": "markdown",
   "id": "9a739ef8-8934-4e8c-8efc-9475f4bae8bd",
   "metadata": {},
   "source": [
    "The *else* keyword in a *for* loop specifies a block of code to be executed when the loop is finished:"
   ]
  },
  {
   "cell_type": "code",
   "execution_count": 75,
   "id": "75154434-c911-43a7-bd38-72fd34ddfe30",
   "metadata": {},
   "outputs": [
    {
     "name": "stdout",
     "output_type": "stream",
     "text": [
      "0\n",
      "1\n",
      "2\n",
      "3\n",
      "4\n",
      "5\n",
      "Finally Finished\n"
     ]
    }
   ],
   "source": [
    "for x in range(6):\n",
    "    print(x)\n",
    "else:\n",
    "    print(\"Finally Finished\")"
   ]
  },
  {
   "cell_type": "markdown",
   "id": "8290c3b0-ba7c-449e-a7e4-fa4dc71cf900",
   "metadata": {},
   "source": [
    "Finally, a nested loop is a loop inside a loop. The \"inner loop\" will be executed one time for each iteration of the \"outer loop\":"
   ]
  },
  {
   "cell_type": "code",
   "execution_count": 78,
   "id": "1be242b7-9eb1-4245-994d-6d164385d26e",
   "metadata": {},
   "outputs": [
    {
     "name": "stdout",
     "output_type": "stream",
     "text": [
      "pink maserati\n",
      "pink mclaren\n",
      "pink lamborghini\n",
      "\n",
      "green maserati\n",
      "green mclaren\n",
      "green lamborghini\n",
      "\n",
      "yellow maserati\n",
      "yellow mclaren\n",
      "yellow lamborghini\n",
      "\n"
     ]
    }
   ],
   "source": [
    "colour = ['pink', 'green', 'yellow']\n",
    "make = ['maserati','mclaren','lamborghini']\n",
    "\n",
    "for x in colour:\n",
    "    for y in make:\n",
    "        print(x,y)\n",
    "    else:\n",
    "        print()"
   ]
  },
  {
   "cell_type": "markdown",
   "id": "3cffdd6c-fa69-4c9a-bb5f-1b24aced090e",
   "metadata": {},
   "source": [
    "One last way to use a *for* loop is by \"enumerating\" through the list. This is similar to the example *for k in mass_kg* but if you wanted to also access the index number along with the item *k*. The syntax is described below."
   ]
  },
  {
   "cell_type": "code",
   "execution_count": 79,
   "id": "f69e704a-189b-46e0-ab7c-829417968a78",
   "metadata": {},
   "outputs": [
    {
     "name": "stdout",
     "output_type": "stream",
     "text": [
      "0 nova scotia\n",
      "1 newfoundland and labrador\n",
      "2 ontario\n",
      "3 quebec\n"
     ]
    }
   ],
   "source": [
    "# general syntax\n",
    "# for index,item in enumerate(array):\n",
    "\n",
    "provinces = ['nova scotia', 'newfoundland and labrador', 'ontario', 'quebec']\n",
    "\n",
    "for idx,item in enumerate(provinces):\n",
    "    print(idx,item)"
   ]
  },
  {
   "cell_type": "markdown",
   "id": "df2cafc3-8e9e-4e28-9237-162df0815417",
   "metadata": {},
   "source": [
    "### Exercise 4.1\n",
    "\n",
    "Create an acronym: Starting from the list ['red', 'green', 'blue'], create the acronym 'RGB' using a for loop. Hint: You may need to use a string method .upper() to properly format the acronym."
   ]
  },
  {
   "cell_type": "code",
   "execution_count": 82,
   "id": "f9a2f5c2-dddc-4dc3-8e24-ba8dd4dc9e42",
   "metadata": {},
   "outputs": [
    {
     "name": "stdout",
     "output_type": "stream",
     "text": [
      "RGB\n"
     ]
    }
   ],
   "source": [
    "colours = ['red','green','blue']\n",
    "acronym = ''\n",
    "\n",
    "for colour in colours:\n",
    "    acronym +=colour[0].upper()\n",
    "\n",
    "print(acronym)"
   ]
  },
  {
   "cell_type": "markdown",
   "id": "5516f022-fdef-40d5-bf59-b5ea90c6d6cc",
   "metadata": {},
   "source": [
    "In addition to *for* loops, there are also *while* loops. These will run based on a conditional, as long as that conditional returns *True*. Be careful that you do not create an infinite loop that is never ending!"
   ]
  },
  {
   "cell_type": "code",
   "execution_count": 85,
   "id": "4b179bf2-a839-4558-8ac3-2ea2c7b58b80",
   "metadata": {},
   "outputs": [
    {
     "name": "stdout",
     "output_type": "stream",
     "text": [
      "3.14\n",
      "6.28\n",
      "9.42\n",
      "12.56\n"
     ]
    }
   ],
   "source": [
    "total = 0\n",
    "\n",
    "while total < 10:\n",
    "    total+=3.14\n",
    "    print(total)"
   ]
  },
  {
   "cell_type": "markdown",
   "id": "be9c32d4-cf9e-4b19-8a52-c37cdd7ccc8d",
   "metadata": {},
   "source": [
    "## Conditionals & Loops\n",
    "\n",
    "Combining conditionals while looping through data is a very powerful concept.\n",
    "\n",
    "Conditionals are often used inside loops:"
   ]
  },
  {
   "cell_type": "code",
   "execution_count": 86,
   "id": "776cdda8-a9a1-48c8-8577-26f9d2374754",
   "metadata": {},
   "outputs": [
    {
     "name": "stdout",
     "output_type": "stream",
     "text": [
      "3.54 is large\n",
      "9.22 is large\n"
     ]
    }
   ],
   "source": [
    "masses = [3.54,2.07,9.22,1.86,1.71]\n",
    "\n",
    "for m in masses:\n",
    "    if m > 3.0:\n",
    "        print(m, 'is large')"
   ]
  },
  {
   "cell_type": "markdown",
   "id": "7e8bf515-bb3f-4985-86bb-97620c4b1cd0",
   "metadata": {},
   "source": [
    "We can use else to execute a block of code when an if condition is not true:"
   ]
  },
  {
   "cell_type": "code",
   "execution_count": 87,
   "id": "a820104c-2ff1-45d0-82c3-4bf24a3365c1",
   "metadata": {},
   "outputs": [
    {
     "name": "stdout",
     "output_type": "stream",
     "text": [
      "3.54 is large\n",
      "2.07 is small\n",
      "9.22 is large\n",
      "1.86 is small\n",
      "1.71 is small\n"
     ]
    }
   ],
   "source": [
    "masses = [3.54,2.07,9.22,1.86,1.71]\n",
    "for m in masses:\n",
    "    if m > 3.0:\n",
    "        print(m, \"is large\")\n",
    "    else:\n",
    "        print(m, \"is small\")"
   ]
  },
  {
   "cell_type": "markdown",
   "id": "d61dcc2d-61f7-4455-8ad3-448cb3cc97c6",
   "metadata": {},
   "source": [
    "We can also use elif to specify additional conditions. The elif keyword is Python's way of saying \"if the previous conditions were not true, then try this condition\":"
   ]
  },
  {
   "cell_type": "code",
   "execution_count": 88,
   "id": "df003d29-62c6-4999-80b6-55faa1f51e2e",
   "metadata": {},
   "outputs": [
    {
     "name": "stdout",
     "output_type": "stream",
     "text": [
      "3.54 is large\n",
      "2.07 is small\n",
      "9.22 is HUGE\n",
      "1.86 is small\n",
      "1.71 is small\n"
     ]
    }
   ],
   "source": [
    "for m in masses:\n",
    "    if m > 9.0:\n",
    "        print(m,'is HUGE')\n",
    "    elif m > 3.0:\n",
    "        print(m, 'is large')\n",
    "    else:\n",
    "        print(m,'is small')"
   ]
  },
  {
   "cell_type": "markdown",
   "id": "7069711e-b7b0-49fb-9a1b-1206b50dddaa",
   "metadata": {},
   "source": [
    "### Exercise 5.1\n",
    "Create an acronym: Starting from the string ''National Aeronautics and Space Administration'', create the acronym 'NASA' using a for loop which contains a conditional statement. Hint: You may need to use a string method .split() to convert the string into a list to iterate through."
   ]
  },
  {
   "cell_type": "code",
   "execution_count": 92,
   "id": "82c6c78f-19ab-43cc-b0a4-a8ddbfdf5df8",
   "metadata": {},
   "outputs": [
    {
     "name": "stdout",
     "output_type": "stream",
     "text": [
      "NASA\n"
     ]
    }
   ],
   "source": [
    "space_agency = \"National Aeronautics and Space Administration\"\n",
    "space_agency_list = space_agency.split()\n",
    "acronym = ''\n",
    "\n",
    "for word in space_agency_list:\n",
    "    if word != \"and\":\n",
    "        acronym += word[0]\n",
    "\n",
    "print(acronym)"
   ]
  },
  {
   "cell_type": "markdown",
   "id": "c00c5848-5fe5-4d18-80f0-ed64256c8e6a",
   "metadata": {},
   "source": [
    "## Functions\n",
    "Break programs down into functions to make them easier to understand. This also enables re-use of the same functions. Defining a section of code as a function in Python is done using the def keyword. For example a function that takes two arguments and returns their sum can be defined as:"
   ]
  },
  {
   "cell_type": "code",
   "execution_count": 99,
   "id": "df5ccb27-c9a6-4309-999f-bd0b59e4f18d",
   "metadata": {},
   "outputs": [
    {
     "data": {
      "text/plain": [
       "42"
      ]
     },
     "execution_count": 99,
     "metadata": {},
     "output_type": "execute_result"
    }
   ],
   "source": [
    "def add_function(a,b):\n",
    "    result = a + b\n",
    "    return result\n",
    "    \n",
    "z = add_function(20,22)\n",
    "z"
   ]
  },
  {
   "cell_type": "markdown",
   "id": "ee1d47a4-6e83-4d70-9147-2afe1f251fe1",
   "metadata": {},
   "source": [
    "Therefore, we begin the definition of a new function with *def*, followed by the name of the function *add_function*. Then function parameters or arguments in parentheses *(a,b)*.  We should use empty parentheses if the function doesn’t take any inputs. Then a colon, finally an indented block of code."
   ]
  },
  {
   "cell_type": "code",
   "execution_count": 102,
   "id": "40c6dd61-c551-417e-a2b4-d99553c01d8c",
   "metadata": {},
   "outputs": [],
   "source": [
    "def print_greeting():\n",
    "    print(\"Hello there!\")"
   ]
  },
  {
   "cell_type": "markdown",
   "id": "9cf55504-8814-47e6-86ee-ee6f15bd0082",
   "metadata": {},
   "source": [
    "Note that defining a function does not run it and  we have to call the function to execute the code it contains:"
   ]
  },
  {
   "cell_type": "code",
   "execution_count": 103,
   "id": "94670f1d-1467-4e3b-a59d-7a6d98a1ae38",
   "metadata": {},
   "outputs": [
    {
     "name": "stdout",
     "output_type": "stream",
     "text": [
      "Hello there!\n"
     ]
    }
   ],
   "source": [
    "print_greeting()"
   ]
  },
  {
   "cell_type": "markdown",
   "id": "99bc538d-38d4-400e-be2d-bdcdbb56dc39",
   "metadata": {},
   "source": [
    "Also note that arguments in a function call are matched to its defined parameters:"
   ]
  },
  {
   "cell_type": "code",
   "execution_count": 106,
   "id": "4e5f21ce-4353-4d1b-b4b5-02686b8dd640",
   "metadata": {},
   "outputs": [
    {
     "name": "stdout",
     "output_type": "stream",
     "text": [
      "1927/4/13\n"
     ]
    }
   ],
   "source": [
    "def print_date(year,month,day):\n",
    "    joined = str(year) +'/'+ str(month) +'/' + str(day)\n",
    "    print(joined)\n",
    "\n",
    "print_date(1927,4,13)"
   ]
  },
  {
   "cell_type": "markdown",
   "id": "2b0c1c12-9b17-48de-8e48-432a155b6cb0",
   "metadata": {},
   "source": [
    "Alternatively, we can name the arguments when we call the function, which allows us to specify them in any order and adds clarity to the call site; otherwise as one is reading the code they might forget if the second argument is the month or the day for example."
   ]
  },
  {
   "cell_type": "code",
   "execution_count": 107,
   "id": "bc06cec0-8f96-4536-b6c7-baf11b9ee111",
   "metadata": {},
   "outputs": [
    {
     "name": "stdout",
     "output_type": "stream",
     "text": [
      "1927/4/13\n"
     ]
    }
   ],
   "source": [
    "print_date(month = 4, day = 13, year = 1927)"
   ]
  },
  {
   "cell_type": "markdown",
   "id": "9ed7668b-7dac-4c73-9824-d1c22e555f84",
   "metadata": {},
   "source": [
    "Functions may return a result to their caller using return command:"
   ]
  },
  {
   "cell_type": "code",
   "execution_count": 112,
   "id": "227a149c-30e8-49dd-bd76-61b13d7f6091",
   "metadata": {},
   "outputs": [
    {
     "name": "stdout",
     "output_type": "stream",
     "text": [
      "2.6666666666666665\n"
     ]
    }
   ],
   "source": [
    "def average(values):\n",
    "    if len(values) == 0:\n",
    "        return None\n",
    "    return sum(values)/ len(values)\n",
    "    \n",
    "a = average([1, 3, 4])\n",
    "print(a)"
   ]
  },
  {
   "cell_type": "markdown",
   "id": "9f6cbcb4-314b-44bd-bd06-d791ede1eb17",
   "metadata": {},
   "source": [
    "Remember: every function returns something. A function that doesn’t explicitly return a value automatically returns  *None*:"
   ]
  },
  {
   "cell_type": "code",
   "execution_count": 113,
   "id": "38d1abeb-5378-4bbb-bc66-b7463024f97c",
   "metadata": {},
   "outputs": [
    {
     "name": "stdout",
     "output_type": "stream",
     "text": [
      "1871/3/19\n",
      "None\n"
     ]
    }
   ],
   "source": [
    "result = print_date(1871,3,19)\n",
    "print(result)"
   ]
  },
  {
   "cell_type": "markdown",
   "id": "36782a62-2994-47fa-bee1-bf036b2539c5",
   "metadata": {},
   "source": [
    "### Exercise 6.2\n",
    "Write a function to search through a dictionary for a specified element, and return every key that corresponds to that element.\n",
    "On the following dictionary, find all keys corresponding to \"Lidstrom\""
   ]
  },
  {
   "cell_type": "code",
   "execution_count": 115,
   "id": "07486c0e-9646-44b5-b278-133630609cc7",
   "metadata": {},
   "outputs": [],
   "source": [
    "norris_dict = {'1990':'Bourque',\n",
    "         '1991':'Bourque',\n",
    "         '1992':'Leetch',\n",
    "         '1993':'Chelios',\n",
    "         '1994':'Bourque',\n",
    "         '1995':'Coffey',\n",
    "         '1996':'Chelios',\n",
    "         '1997':'Leetch',\n",
    "         '1998':'Blake',\n",
    "         '1999':'MacInnis',\n",
    "         '2000':'Pronger',\n",
    "         '2001':'Lidstrom',\n",
    "         '2002':'Lidstrom',\n",
    "         '2003':'Lidstrom',\n",
    "         '2004':'Niedermayer',\n",
    "         '2005':None,\n",
    "         '2006':'Lidstrom',\n",
    "         '2007':'Lidstrom',\n",
    "         '2008':'Lidstrom',\n",
    "         '2009':'Chara',\n",
    "         '2010':'Keith',\n",
    "         '2011':'Lidstrom'}"
   ]
  },
  {
   "cell_type": "code",
   "execution_count": 116,
   "id": "dadbf77f-cc9d-4459-9f6b-5570a82797f5",
   "metadata": {},
   "outputs": [
    {
     "name": "stdout",
     "output_type": "stream",
     "text": [
      "['2001', '2002', '2003', '2006', '2007', '2008', '2011']\n"
     ]
    }
   ],
   "source": [
    "def find_keys_by_value(input_dict,value):\n",
    "    keys = []\n",
    "    for key,val in input_dict.items():\n",
    "        if val == value:\n",
    "            keys.append(key)\n",
    "    return keys\n",
    "print(find_keys_by_value(norris_dict, 'Lidstrom'))"
   ]
  },
  {
   "cell_type": "markdown",
   "id": "d639b137-843a-42cd-a04a-542a2c5cda81",
   "metadata": {},
   "source": [
    "## Recursion\n",
    "One last very important concept involving functions in Python is \"recursion\". Recursion is when you call functions within other functions. Doing this is very powerful as you can write complex code in a much more simple and easy to read way.\n",
    "\n",
    "Here we will use a for loop along with two functions to calculate a complicated expression that involves an \"infinite sum\"."
   ]
  },
  {
   "cell_type": "code",
   "execution_count": 120,
   "id": "24214eeb-29d8-432b-87a2-01610d7db00b",
   "metadata": {},
   "outputs": [
    {
     "name": "stdout",
     "output_type": "stream",
     "text": [
      "For 1 terms, summation = 4.0\n",
      "For 10 terms, summation = 3.0418396189294032\n",
      "For 100 terms, summation = 3.1315929035585537\n",
      "For 1000 terms, summation = 3.140592653839794\n"
     ]
    }
   ],
   "source": [
    "# define functions\n",
    "def equation(k):\n",
    "    output = 4 * (-1)**k / (2*k + 1)\n",
    "    return output\n",
    "\n",
    "# this function recursively uses the previous function\n",
    "def summation(n):\n",
    "    if n == 0: \n",
    "        return 0\n",
    "    else:\n",
    "        return equation(n-1) + summation(n-1)\n",
    "\n",
    "# call the functions\n",
    "for N in [1,10,100,1000]:\n",
    "    y = summation(N)\n",
    "    print(f'For {N} terms, summation = {y}')"
   ]
  }
 ],
 "metadata": {
  "kernelspec": {
   "display_name": "Python 3 (ipykernel)",
   "language": "python",
   "name": "python3"
  },
  "language_info": {
   "codemirror_mode": {
    "name": "ipython",
    "version": 3
   },
   "file_extension": ".py",
   "mimetype": "text/x-python",
   "name": "python",
   "nbconvert_exporter": "python",
   "pygments_lexer": "ipython3",
   "version": "3.12.7"
  }
 },
 "nbformat": 4,
 "nbformat_minor": 5
}
