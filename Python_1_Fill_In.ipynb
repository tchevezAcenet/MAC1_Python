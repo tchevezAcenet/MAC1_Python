{
 "cells": [
  {
   "cell_type": "markdown",
   "id": "fa24968c-c885-4c21-b636-5db4ebbbcba0",
   "metadata": {},
   "source": [
    "# Python (Part 1)\n",
    "\n",
    "This lesson is an introduction to programming in Python for people with little or no previous programming experience. \n",
    "\n",
    "Python is a popular language for research computing, data analytics, and great for general-purpose programming as well. By the end of this lesson, you will have a solid foundation in working with JupyterLab and variables in Python.\n",
    "\n",
    "Let’s start with something simple. Imagine using Python like a calculator. You can do quick math, like this:"
   ]
  },
  {
   "cell_type": "code",
   "execution_count": 1,
   "id": "747d29f8-ee62-4ccf-9663-d275ff941ccb",
   "metadata": {},
   "outputs": [],
   "source": [
    "#Your code goes here"
   ]
  },
  {
   "cell_type": "markdown",
   "id": "85fb79c1-a613-465a-8e43-47a5c2f7b79e",
   "metadata": {},
   "source": [
    "## Variables in Python\n",
    "In the previous example of coding in Python, we saw that we can use Python as an advanced calculator. However, the results of these computations are lost after we perform our operations. If we want to save and reuse any value in a code, we need to save these computations in a place in computer memory to be able to access it in the future. \n",
    "\n",
    "Variables are names that we associate with a memory location in computers. As such variables are not values themselves but they point to a memory location where the actual values are stored. Variables in Python can only contain letters, digits, and underscore _ (typically used to separate words in long variable names) and they cannot start with a digit. Variables in Python are also case sensitive. For example, age, Age and AGE are three different variables. The name we choose for variables should be meaningful so you or another programmer know what it is.\n",
    "\n",
    "In Python the “=” symbol assigns the value on the right to the name on the left. The variable is created when a value is assigned to it. Here is how we can assign a number to a variable called age in Python:"
   ]
  },
  {
   "cell_type": "code",
   "execution_count": 2,
   "id": "8a0bd429-35c1-4a70-83cd-66ce59d81613",
   "metadata": {},
   "outputs": [],
   "source": [
    "# Defining a variable called age and assigning a number to this variable\n",
    "#Your code goes here"
   ]
  },
  {
   "cell_type": "markdown",
   "id": "bbb57545-cdbf-4a32-bb80-5f7de070c014",
   "metadata": {},
   "source": [
    "You can hold “Shift” and press “Enter” to run this cell. Now the value of 36 is assigned to a memory location in the computer which is called age. If I want to see what is inside variable age, I can use a built-in function in Python called print(). The values passed to the print function should be inside parentheses and they are called arguments. We can write:"
   ]
  },
  {
   "cell_type": "code",
   "execution_count": 3,
   "id": "a5a667b3-dfdd-4b70-80a3-70b93f5e466f",
   "metadata": {},
   "outputs": [],
   "source": [
    "# Using print function to print something on screen\n",
    "#Your code goes here"
   ]
  },
  {
   "cell_type": "markdown",
   "id": "c7e9e55b-8a50-4e15-8bcb-91d56aff73a4",
   "metadata": {},
   "source": [
    "Instead of numbers, we can also assign a series of characters or strings to a variable. Note that characters should be put inside single quotes or double quotes in Python."
   ]
  },
  {
   "cell_type": "code",
   "execution_count": 4,
   "id": "cb6fa06d-cd73-4169-9d99-5e775e28c660",
   "metadata": {},
   "outputs": [],
   "source": [
    "# Defining a variable called first_name and assigning a series of characters to this variable\n",
    "#Your code goes here"
   ]
  },
  {
   "cell_type": "markdown",
   "id": "ae8245f7-c0a2-4a00-a029-79627fd21384",
   "metadata": {},
   "source": [
    "We can use print function to print two or more variables and some statements in between:"
   ]
  },
  {
   "cell_type": "code",
   "execution_count": 5,
   "id": "6df42783-42be-47b6-af11-452afc479560",
   "metadata": {},
   "outputs": [],
   "source": [
    "#Your code goes here"
   ]
  },
  {
   "cell_type": "markdown",
   "id": "53a8619c-b404-4cea-9c72-e958a2628c15",
   "metadata": {},
   "source": [
    "As you can see, the print function automatically puts a single space between items to separate them and wraps around to a new line at the end. If a variable doesn’t exist yet, or if the name has been mis-spelled, Python reports an error."
   ]
  },
  {
   "cell_type": "code",
   "execution_count": 6,
   "id": "28aabdcb-7178-4ce9-96ff-7f9fba487802",
   "metadata": {},
   "outputs": [],
   "source": [
    "#Your code goes here"
   ]
  },
  {
   "cell_type": "markdown",
   "id": "fd20a0fe-ef0f-4c97-8ba0-02e50134c89a",
   "metadata": {},
   "source": [
    "The last line in the error message is usually the most important one. Here the last line reads a NameError in which ‘last_name’ is not defined, which is exactly the source of the issue. We can also use variables in calculations as if they were values."
   ]
  },
  {
   "cell_type": "code",
   "execution_count": 7,
   "id": "0d85c003-f5bb-4fea-a779-72b1a639c51c",
   "metadata": {},
   "outputs": [],
   "source": [
    "#Your code goes here"
   ]
  },
  {
   "cell_type": "markdown",
   "id": "6f1c1f25-bc17-4584-98e4-23e72c9acfc9",
   "metadata": {},
   "source": [
    "### Exercise 4.1\n",
    "Write a Python code that converts your height from meters to feet, and print it out.\n"
   ]
  },
  {
   "cell_type": "code",
   "execution_count": 8,
   "id": "12d2fd1c-6d11-4ccb-9d70-f124e547c7ca",
   "metadata": {},
   "outputs": [],
   "source": [
    "#Your code goes here"
   ]
  },
  {
   "cell_type": "markdown",
   "id": "0500c1e0-b535-40a3-a8d4-053c5cabecd5",
   "metadata": {},
   "source": [
    "In Python, we can also define multiple variables in a single line:\n"
   ]
  },
  {
   "cell_type": "code",
   "execution_count": 9,
   "id": "0e2226a0-d320-4063-b6cc-ca99e3a88937",
   "metadata": {},
   "outputs": [],
   "source": [
    "#Your code goes here"
   ]
  },
  {
   "cell_type": "markdown",
   "id": "1de82e0f-e5b0-4645-807b-73909f0915b4",
   "metadata": {},
   "source": [
    "## Data types in Python\n",
    "Every value (data) in a Python program has a specific type. There are four main types of values in Python:\n",
    "- **Integer (int)**: represents positive or negative whole numbers like 4 or -12.\n",
    "- **Floating point number (float)**: represents real numbers like 3.14 or -2.5.\n",
    "- **Character string (usually called “string”, str)**: text.\n",
    "- **Boolean** values like TRUE or FALSE.\n",
    "\n",
    "In Python, we can use the built-in function “type( )” to find out what type a value has. Type works on variables as well but you should remember that the value has the type and the variable is just a label.\n"
   ]
  },
  {
   "cell_type": "code",
   "execution_count": 10,
   "id": "040aca91-98a0-4f32-bee3-469b62d371d5",
   "metadata": {},
   "outputs": [],
   "source": [
    "#Your code goes here"
   ]
  },
  {
   "cell_type": "markdown",
   "id": "f7aecde3-fe29-4baf-9877-9f375593140d",
   "metadata": {},
   "source": [
    "### Exercise 5.1\n",
    "Define a variable called first_number and assign the value 3 to this variable. Define a second variable called second_number and assign the value 3.1 to this variable. Define a third variable called sum which should be the summation of first_number and second_number. Find out what is the type of this last variable and print it on the screen.\n"
   ]
  },
  {
   "cell_type": "code",
   "execution_count": 11,
   "id": "df43ecd9-7e73-421f-be2c-4642542140e8",
   "metadata": {},
   "outputs": [],
   "source": [
    "#Your code goes here"
   ]
  },
  {
   "cell_type": "markdown",
   "id": "95efaae3-c5b9-4775-983a-88923063ac7d",
   "metadata": {},
   "source": [
    "## Taking input from users\n",
    "In Python we can take values from users by using input() function. For example, if we want a user to enter their age and assign this value to a variable called user_age, we can write the following code:"
   ]
  },
  {
   "cell_type": "code",
   "execution_count": 12,
   "id": "4c501c1e-f2e2-4c7d-8a1e-2e36e352d968",
   "metadata": {},
   "outputs": [],
   "source": [
    "#Your code goes here"
   ]
  },
  {
   "cell_type": "markdown",
   "id": "99b26d88-2ded-4e47-859f-17c34ed63fe4",
   "metadata": {},
   "source": [
    "The user will then have the opportunity to enter their age inside the box like the screenshot below, and then that value will be stored in the user_age variable. Note that this function will return a string. Therefore, if you need to use this data in any form of calculation, you need to first convert the string to an integer (or float) using **int()** or **float()** built-in functions in python. The details of variable type conversions will be provided in the next session."
   ]
  },
  {
   "cell_type": "markdown",
   "id": "9c8658c0-9986-46f2-8424-d0af2e62fb5c",
   "metadata": {},
   "source": [
    "### Exercise 6.3\n",
    "Write a Python code that asks a user to provide their height in centimeters and then convert it to feet, and print it out."
   ]
  },
  {
   "cell_type": "code",
   "execution_count": 13,
   "id": "6b803458-bb80-4c26-abb3-1a7e7d21272b",
   "metadata": {},
   "outputs": [],
   "source": [
    "#Your code goes here"
   ]
  },
  {
   "cell_type": "markdown",
   "id": "99c36296-7bc9-4062-a168-7c2981040806",
   "metadata": {},
   "source": [
    "As a final note, we will explore an alternative way to print a string or contents of a variable on the output screen in Python, and it is called formatted string literals or f-strings for short. This feature was added to Python in version 3.6. The real benefit of using f-strings instead of print() is shown when you need to format strings using multiple values. Rather than doing multiple string concatenation, you can directly use the name of a variable or include an expression in the string. Being able to embed entire expressions inside of a string literal is a useful feature, and can also make for more clear and concise code. This will become very clear when you begin to write more code and the use cases for your code becomes non-trivial.\n",
    "\n",
    "\n",
    "f-strings are string literals that have an f before the opening quotation mark. They can include Python expressions enclosed in curly braces. Python will replace those expressions with their resulting values. So, this behavior turns f-strings into a string interpolation tool."
   ]
  },
  {
   "cell_type": "code",
   "execution_count": 14,
   "id": "eeb6b06e-8d59-4b30-8e6d-3b340c59737e",
   "metadata": {},
   "outputs": [],
   "source": [
    "#Your code goes here"
   ]
  },
  {
   "cell_type": "markdown",
   "id": "98e9695b-b33a-43dd-b1f7-8a56ff753919",
   "metadata": {},
   "source": [
    "As you can see, the code is more readable and concise using the f-string syntax."
   ]
  }
 ],
 "metadata": {
  "kernelspec": {
   "display_name": "Python 3 (ipykernel)",
   "language": "python",
   "name": "python3"
  },
  "language_info": {
   "codemirror_mode": {
    "name": "ipython",
    "version": 3
   },
   "file_extension": ".py",
   "mimetype": "text/x-python",
   "name": "python",
   "nbconvert_exporter": "python",
   "pygments_lexer": "ipython3",
   "version": "3.12.7"
  }
 },
 "nbformat": 4,
 "nbformat_minor": 5
}
