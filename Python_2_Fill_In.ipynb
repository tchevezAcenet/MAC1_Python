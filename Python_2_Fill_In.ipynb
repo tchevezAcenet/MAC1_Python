{
 "cells": [
  {
   "cell_type": "markdown",
   "id": "1faf02c6-9023-475a-92f3-b0a2c2ba1619",
   "metadata": {},
   "source": [
    "# Python (Part 2)\n",
    "This lesson aims to introduce some of the main built-in functions in Python and explain how to use lists for simplifying the process of data collection and analysis."
   ]
  },
  {
   "cell_type": "markdown",
   "id": "e5979c0f-001b-4527-9188-82e17521808f",
   "metadata": {},
   "source": [
    "## Functions in Python\n",
    "A function is a block of code that performs a specific task and will only run when it is called. Suppose you need to create a program to create a blank box and then fill the box with some characters. You can create three functions to solve this problem: a function that creates a blank box, a function that reads the characters from users, and a function that fills the box with user characters. Therefore, we can divide a complex problem into smaller sections which makes our program easy to understand and reuse.\n",
    "\n",
    "We have three different types of functions in Python: **built-in functions, external-library functions, and user-defined functions**.\n",
    "\n",
    "**Note:** Three main types of functions in Python are built-in functions which exist in the base version of Python, external-library functions which come with the external libraries, and they are defined inside the library, and finally user-defined functions which can be defined by you.\n",
    "\n",
    "We already used a few built-in functions in Python. For example, **print()** is a built-in function that will print the specified message on the screen, or other standard output device.\n",
    "\n",
    "To use a function, we need to call it first. Any function that is called in Python should have parentheses after its name. An argument is a value inside the parentheses which will be passed into a function. print() for example can take zero or more arguments. print() with no arguments (zero arguments) prints a blank line."
   ]
  },
  {
   "cell_type": "code",
   "execution_count": 1,
   "id": "db6735c6-22f6-45d1-a2e5-05a085d3fecd",
   "metadata": {},
   "outputs": [],
   "source": [
    "#Your code goes here"
   ]
  },
  {
   "cell_type": "markdown",
   "id": "d8c276fe-3c42-4b43-a4a9-4347a7a3d7e0",
   "metadata": {},
   "source": [
    "Every function call produces some specific result. If the function doesn’t have a useful result to return, it usually returns the special value *None*. For example, The output of printing the print()is *None*. *None* is a Python object that stands in anytime there is no value.\n"
   ]
  },
  {
   "cell_type": "code",
   "execution_count": 2,
   "id": "f1528828-dd53-4ab3-974d-07e646cdbecf",
   "metadata": {},
   "outputs": [],
   "source": [
    "#Your code goes here"
   ]
  },
  {
   "cell_type": "markdown",
   "id": "f30492e4-5954-4a72-bd12-ca494aa5be88",
   "metadata": {},
   "source": [
    "## Type conversions\n",
    "The process of converting a Python data type into another data type is known as type conversion. There are mainly two types of type conversion methods in Python: implicit type conversion and explicit type conversion. In Python, when the data type conversion takes place during interpretation or during the runtime, it’s called an implicit data type conversion. Python handles the implicit data type conversion, so we don’t have to explicitly convert the data type into another data type. See the below example for an implicit data type conversion:"
   ]
  },
  {
   "cell_type": "code",
   "execution_count": 3,
   "id": "59952784-6635-4386-a47b-c4455e84468a",
   "metadata": {},
   "outputs": [],
   "source": [
    "#Your code goes here"
   ]
  },
  {
   "cell_type": "markdown",
   "id": "7cb2de38-ed3b-42ed-8ae2-8091178f9886",
   "metadata": {},
   "source": [
    "In the above example we have taken two variables, of integer and float data types, and added them. \n",
    "\n",
    "Further, we have declared another variable named ‘sum’ and stored the result of the addition in it. When we checked the data type of the sum variable, we could see that the data type of the sum variable had been automatically converted into the float data type by the Python interpreter. This is called implicit type conversion. The reason that the sum variable was converted into the float data type and not the integer data type is that if the compiler had converted it into the integer data type, then it would’ve had to remove the fractional part, which would have resulted in data loss. So, Python always converts smaller data types into larger data types to prevent the loss of data.\n",
    "\n",
    "Explicit type conversion is also known as typecasting. In an explicit type conversion, the programmers clearly and explicitly define the type. For explicit type conversion, there are some built-in Python functions but here, we will focus on the main three built-in functions for data conversion:\n",
    "\n",
    "- int(x): converts x to an integer.\n",
    "- float(x): converts x to a float.\n",
    "- str(x): converts x to a string."
   ]
  },
  {
   "cell_type": "code",
   "execution_count": 4,
   "id": "9032cda3-e5ca-4aeb-a2b7-7eb90b871a65",
   "metadata": {},
   "outputs": [],
   "source": [
    "#Your code goes here"
   ]
  },
  {
   "cell_type": "markdown",
   "id": "a879ab81-652a-438c-abc8-43a2938ba69e",
   "metadata": {},
   "source": [
    "As expected, Python produces an error in response to our code as it cannot perform a sum operation on an integer and a string. Here to fix the code, we need to first convert the string data into a float and then perform the mathematical sum."
   ]
  },
  {
   "cell_type": "code",
   "execution_count": 5,
   "id": "514eadee-bfd5-4516-9b26-30bd9c011efa",
   "metadata": {},
   "outputs": [],
   "source": [
    "#Your code goes here"
   ]
  },
  {
   "cell_type": "markdown",
   "id": "cf61e937-dab0-440c-b35c-4a72f769c887",
   "metadata": {},
   "source": [
    "Now let’s look at another situation when we convert a number into a string and then use a summation on a few strings:"
   ]
  },
  {
   "cell_type": "code",
   "execution_count": 6,
   "id": "0b656ace-b812-4176-8bac-07725f959f0e",
   "metadata": {},
   "outputs": [],
   "source": [
    "#Your code goes here"
   ]
  },
  {
   "cell_type": "markdown",
   "id": "b15261c1-6975-456d-92d0-f27e25d01188",
   "metadata": {},
   "source": [
    "### Exercise 2.1\n",
    "Which of the following will return the floating point number 4.0? Note: there may be more than one right answer.\n",
    "\n",
    "first = 2.0\n",
    "second = \"2\"\n",
    "third = \"2.1\"\n",
    "\n",
    "1.    first + float(second)\n",
    "2.    float(second) + float(third)\n",
    "3.    first + int(third)\n",
    "4.    first + int(float(third))\n",
    "5.    int(first) + int(float(third))\n",
    "6.    2.0 * second"
   ]
  },
  {
   "cell_type": "markdown",
   "id": "adb55ca0-2479-4f2f-a443-253ca300519c",
   "metadata": {},
   "source": [
    "### Exercise 2.2\n",
    "Write a Python program that asks a user to enter their birth year, then calculate their age and print it on screen."
   ]
  },
  {
   "cell_type": "code",
   "execution_count": 7,
   "id": "5acff87d-c07b-407d-b7a0-b9b7ce0d94f6",
   "metadata": {},
   "outputs": [],
   "source": [
    "#Your code goes here"
   ]
  },
  {
   "cell_type": "markdown",
   "id": "12788270-7fc3-4041-a638-324a19212c69",
   "metadata": {},
   "source": [
    "In addition to **print()**, **input()** and **type()**, there are a lot of built-in functions in Python which we can use to facilitate our computations. A few of commonly used statistical built-in functions in Python are: **min()** which can be used to find minimum (smallest) value, and **max()** which can be used to find maximum (largest) value. Note that **min()** and **max()** functions both work on character strings as well as numbers. To determine larger and smaller, Python uses (0-9, A-Z, a-z) to compare letters. Note that the arguments of **min()** and **max()** functions should be things that can meaningfully be compared and if not, Python will return an error."
   ]
  },
  {
   "cell_type": "code",
   "execution_count": 8,
   "id": "9365acf9-2076-4416-8473-a894cd59c09b",
   "metadata": {},
   "outputs": [],
   "source": [
    "#Your code goes here"
   ]
  },
  {
   "cell_type": "markdown",
   "id": "bf17488a-c328-465d-b7a4-48f6883a80ea",
   "metadata": {},
   "source": [
    "In addition to **min()** and **max()**, we can use the **round()** function to round off a floating-point number. Note that in the round() function, we can specify the number of decimal places (n) we want in the value x by using the following format: **round(x, n)**."
   ]
  },
  {
   "cell_type": "code",
   "execution_count": 9,
   "id": "4726ec8b-fcf6-407a-be65-d3924f5bf416",
   "metadata": {},
   "outputs": [],
   "source": [
    "#Your code goes here"
   ]
  },
  {
   "cell_type": "markdown",
   "id": "66eba684-cddd-4111-9c0d-bf668760c74d",
   "metadata": {},
   "source": [
    "### Exercise 2.3\n",
    "Use the Python built-in functions to round the Pi constant (Pi=3.1415926) to its two decimal places."
   ]
  },
  {
   "cell_type": "code",
   "execution_count": 10,
   "id": "8cc8a250-7171-47bc-a895-f977d3e11831",
   "metadata": {},
   "outputs": [],
   "source": [
    "#Your code goes here"
   ]
  },
  {
   "cell_type": "markdown",
   "id": "84a7fda3-a0d5-4828-8aa2-a057b0c5ad4f",
   "metadata": {},
   "source": [
    "## Help in Python\n",
    "In addition to using a search engine like Google, large language model chat bots like ChatGPT or Gemini, or a social media platform/forum, there are two direct methods for seeking additional information about a Python function, class, or library. First, we can use the Python help() function to get the documentation of specified modules, classes, functions, variables etc. This method is generally used with the Python interpreter console to get details about python objects. Note that every built-in function has online documentation. For example, if we want to seek more information about **round()** function, we can type:"
   ]
  },
  {
   "cell_type": "code",
   "execution_count": 11,
   "id": "bd4e4251-3014-41b5-b582-1fe9667206c9",
   "metadata": {},
   "outputs": [],
   "source": [
    "#Your code goes here"
   ]
  },
  {
   "cell_type": "markdown",
   "id": "4194947b-f52c-493d-a3f1-24fdad0012c7",
   "metadata": {},
   "source": [
    "Another way of seeking information in Jupyter Lab is by typing the function name in a cell with a question mark after it, and then run the cell."
   ]
  },
  {
   "cell_type": "code",
   "execution_count": 12,
   "id": "d9ec4812-65f8-4814-a656-9d2f2a133e46",
   "metadata": {},
   "outputs": [],
   "source": [
    "#Your code goes here"
   ]
  },
  {
   "cell_type": "markdown",
   "id": "29338e13-5b0c-44c1-94d6-286fddbaf55f",
   "metadata": {},
   "source": [
    "## Comments in Python\n",
    "As mentioned before, we can use comments to add documentation to programs by adding a hashtag (#) before the comment:"
   ]
  },
  {
   "cell_type": "code",
   "execution_count": 13,
   "id": "7496ebc4-d25f-4a9a-9aea-abaf3aa02344",
   "metadata": {},
   "outputs": [],
   "source": [
    "#Your code goes here"
   ]
  },
  {
   "cell_type": "markdown",
   "id": "2a204368-c950-4fe8-9f07-9e031d01ce2f",
   "metadata": {},
   "source": [
    "## Error messages in Python\n",
    "As you do more and more programming, you will naturally encounter a lot of errors (or bugs). Understanding error messages in Python is important as it can help us to understand the source of error in our code faster and rectify the issue. There are generally two different types of errors in Python: syntax error and runtime error. A syntax error happens when Python can't understand what you are saying. A run-time error happens when Python understands what you are saying, but runs into trouble when following your instructions."
   ]
  },
  {
   "cell_type": "code",
   "execution_count": 14,
   "id": "9c5d433e-3f84-480e-96e0-05a5f958c705",
   "metadata": {},
   "outputs": [],
   "source": [
    "#Your code goes here"
   ]
  },
  {
   "cell_type": "markdown",
   "id": "eaa4c06b-5d9c-4fbe-8bde-2a9d65d44f40",
   "metadata": {},
   "source": [
    "In this example, we forgot to use the parenthesis that are required by the print() function. Python does not understand what we are trying to do and therefore, generates a syntax error."
   ]
  },
  {
   "cell_type": "code",
   "execution_count": 15,
   "id": "751f4c0a-cd7f-44f9-b1dd-0b9e0c89e65b",
   "metadata": {},
   "outputs": [],
   "source": [
    "#Your code goes here"
   ]
  },
  {
   "cell_type": "markdown",
   "id": "40ed5444-da54-4ad0-9768-21f6a25824d6",
   "metadata": {},
   "source": [
    "In the last example, we forget to define the sentence variable. Python knows what you want it to do, but since no sentence has been defined, a name error occurs."
   ]
  },
  {
   "cell_type": "markdown",
   "id": "4b989407-b18d-4498-be43-2ad3d6454ad0",
   "metadata": {},
   "source": [
    "### Exercise 5.1\n",
    "Debug the following Python program by typing the code in Jupyter Lab and then reading the error message carefully:\n",
    "\n",
    "my_ages = 53\n",
    "\n",
    "remaining = 100 - my_age\n",
    "\n",
    "print(remaining)"
   ]
  },
  {
   "cell_type": "markdown",
   "id": "88c74d66-af3a-489f-9c28-bfffbf6bf684",
   "metadata": {},
   "source": [
    "## Lists in Python\n",
    "Lists are used to store multiple items in a single variable. Lists are one of the built-in data types in Python used to store collections of data, together with Tuple and Dictionary, all with different qualities and usage. If we run an experiment and collect a physical quantity like temperature of water over time, then we may have multiple variables like temperature_001, temperature_002, temperature_003 etc. Doing calculations with a hundred variables called temperature_001, temperature_002, etc., would be at least as slow as doing them by hand. We use a list to store many values together contained within square brackets []. Remember that the values should be separated by commas:"
   ]
  },
  {
   "cell_type": "code",
   "execution_count": 16,
   "id": "6b068b3b-6e0d-46db-90c0-f4a9845941d6",
   "metadata": {},
   "outputs": [],
   "source": [
    "#Your code goes here"
   ]
  },
  {
   "cell_type": "markdown",
   "id": "efdad6ec-3155-4013-9f87-af379a611c35",
   "metadata": {},
   "source": [
    "We can also create list using a list constructor (with double parentheses):"
   ]
  },
  {
   "cell_type": "code",
   "execution_count": 17,
   "id": "1e415ddd-0ccd-45ab-a0c6-ded23397ff3a",
   "metadata": {},
   "outputs": [],
   "source": [
    "#Your code goes here"
   ]
  },
  {
   "cell_type": "markdown",
   "id": "ad3448f5-35e9-45fd-bbde-1f010803522b",
   "metadata": {},
   "source": [
    "It is also important to know how to initialize empty lists. In many situations, you can solve problems in data engineering by using an empty list, such as creating placeholders that will later be filled in with data."
   ]
  },
  {
   "cell_type": "code",
   "execution_count": 18,
   "id": "e7ed61ef-9d9d-41da-8d32-3b4df28ac745",
   "metadata": {},
   "outputs": [],
   "source": [
    "#Your code goes here"
   ]
  },
  {
   "cell_type": "markdown",
   "id": "399a22bf-e176-4a28-a5a2-aa69811c9e2d",
   "metadata": {},
   "source": [
    "We can use a built-in function len() to find the length of a list, or how many values are in a list."
   ]
  },
  {
   "cell_type": "code",
   "execution_count": 19,
   "id": "d253f13c-c363-4755-873a-73751a593b8b",
   "metadata": {},
   "outputs": [],
   "source": [
    "#Your code goes here"
   ]
  },
  {
   "cell_type": "markdown",
   "id": "77119b8f-00ff-4def-8200-6ebe6347e9df",
   "metadata": {},
   "source": [
    "List items are indexed, the first item has index [0], the second item has index [1], the last item has index [-1] etc."
   ]
  },
  {
   "cell_type": "code",
   "execution_count": 20,
   "id": "0ed97bd7-9dde-4f2d-a076-d4a27c113683",
   "metadata": {},
   "outputs": [],
   "source": [
    "#Your code goes here"
   ]
  },
  {
   "cell_type": "markdown",
   "id": "10ff7388-2b10-495d-88a7-8322682d760b",
   "metadata": {},
   "source": [
    "A list can contain different data types:"
   ]
  },
  {
   "cell_type": "code",
   "execution_count": 21,
   "id": "40a97446-cd91-4063-827f-963be75832d0",
   "metadata": {},
   "outputs": [],
   "source": [
    "#Your code goes here"
   ]
  },
  {
   "cell_type": "markdown",
   "id": "14011b35-c3d3-42fe-9965-ec84185247ce",
   "metadata": {},
   "source": [
    "List items are ordered, changeable, and allow duplicate values. Use an index expression on the left of assignment to replace a value:"
   ]
  },
  {
   "cell_type": "code",
   "execution_count": 22,
   "id": "c60519ad-c0e6-4c58-8116-71f4c1b38568",
   "metadata": {},
   "outputs": [],
   "source": [
    "#Your code goes here"
   ]
  },
  {
   "cell_type": "markdown",
   "id": "84fbe366-ea0a-4a1f-9184-8a7bcbd33d72",
   "metadata": {},
   "source": [
    "Consider a Python list, in order to access a range of elements in a list, you need to slice a list. One way to do this is to use the simple slicing operator (:). With this operator, one can specify where to start the slicing, where to end, and specify the step. List slicing returns a new list from the existing list."
   ]
  },
  {
   "cell_type": "code",
   "execution_count": 23,
   "id": "fe48dbb4-3cdb-4385-9fe2-5128b73dafa6",
   "metadata": {},
   "outputs": [],
   "source": [
    "#Your code goes here"
   ]
  },
  {
   "cell_type": "markdown",
   "id": "11c58a5f-44fb-40a6-8189-8d3716dcbd7c",
   "metadata": {},
   "source": [
    "### Exercise 6.1\n",
    "If start and stop are both non-negative integers, how long are the list values[start:stop]?\n",
    "_____"
   ]
  },
  {
   "cell_type": "markdown",
   "id": "fc968d17-5e78-40f1-9334-c88f0e3e54d3",
   "metadata": {},
   "source": [
    "If you add new items to a list, the new items will be placed at the end of the list. Use list_name.append  to add items to the end of a list."
   ]
  },
  {
   "cell_type": "code",
   "execution_count": 24,
   "id": "a367b707-3555-45fd-8b5d-74ff8138e048",
   "metadata": {},
   "outputs": [],
   "source": [
    "#Your code goes here"
   ]
  },
  {
   "cell_type": "markdown",
   "id": "9a0b16b4-2bbd-4477-a369-a18cc20ed7da",
   "metadata": {},
   "source": [
    "Here, append is a method of lists. Like a function, but tied to a particular object. Use **object_name.method_name** to call methods. This deliberately resembles the way we refer to things in a library. We will meet other methods of lists as we go along. Use help(list) for a preview. extend is similar to append, but it allows you to combine two lists."
   ]
  },
  {
   "cell_type": "code",
   "execution_count": 25,
   "id": "9795344e-79ac-4a6f-b6fe-772ac20c040f",
   "metadata": {},
   "outputs": [],
   "source": [
    "#Your code goes here"
   ]
  },
  {
   "cell_type": "markdown",
   "id": "6aaed41c-26e2-48d5-a53a-1b933392992f",
   "metadata": {},
   "source": [
    "Note that while extend maintains the flat structure of the list, appending a list to a list means the last element in primes will itself be a list, not an integer. Lists can contain values of any type; therefore, lists of lists are possible. The **count()** method returns the number of elements with the specified value."
   ]
  },
  {
   "cell_type": "code",
   "execution_count": 26,
   "id": "11e8d995-5b46-4f30-9ecb-0c8dac13beb6",
   "metadata": {},
   "outputs": [],
   "source": [
    "#Your code goes here"
   ]
  },
  {
   "cell_type": "markdown",
   "id": "31c3f87f-ec83-431d-8497-87ea72b11ae6",
   "metadata": {},
   "source": [
    "### Exercise 6.2\n",
    "Write a Python code that returns the number of times the value 9 appears in the following list:\n",
    "[1, 4, 2, 9, 7, 8, 9, 3, 1]"
   ]
  },
  {
   "cell_type": "code",
   "execution_count": 27,
   "id": "71a8b522-1c87-4a38-b136-56acb9e36cea",
   "metadata": {},
   "outputs": [],
   "source": [
    "#Your code goes here"
   ]
  },
  {
   "cell_type": "markdown",
   "id": "82b91137-ab6e-44a9-b0d0-da7ce894ede6",
   "metadata": {},
   "source": [
    "The **reverse()** method reverses the sorting order of the elements."
   ]
  },
  {
   "cell_type": "code",
   "execution_count": 28,
   "id": "c377c470-fff9-421e-87c1-4e3a0fa5152c",
   "metadata": {},
   "outputs": [],
   "source": [
    "#Your code goes here"
   ]
  },
  {
   "cell_type": "markdown",
   "id": "3f926997-80cf-4145-b4c0-f75dfe136b83",
   "metadata": {},
   "source": [
    "The **sort()** method sorts the list ascending by default. You can also make a function to decide the sorting criteria(s) via this format: **list.sort(reverse=True|False, key=Function)**. Here reverse=True will sort the list descending. Default is reverse=False. Key is also a function to specify the sorting criteria(s)."
   ]
  },
  {
   "cell_type": "code",
   "execution_count": 29,
   "id": "01c35151-be3b-4b21-80a0-93e34d2d41d1",
   "metadata": {},
   "outputs": [],
   "source": [
    "#Your code goes here"
   ]
  },
  {
   "cell_type": "markdown",
   "id": "41d90731-9d9a-444c-8623-ae313efdefcf",
   "metadata": {},
   "source": [
    "### Exercise 6.3\n",
    "Look at the following list of prime numbers:\n",
    "prime_numbers = [11, 3, 7, 5, 2]\n",
    "\n",
    "(a) Sort them from smallest to largest.\n",
    "\n",
    "(b) Sort them from largest to smallest."
   ]
  },
  {
   "cell_type": "code",
   "execution_count": 30,
   "id": "615a66da-2b58-407c-b345-5820ff4e8896",
   "metadata": {},
   "outputs": [],
   "source": [
    "#Your code goes here"
   ]
  },
  {
   "cell_type": "markdown",
   "id": "895c6884-5969-4f06-9cf9-bfbf477b8b1a",
   "metadata": {},
   "source": [
    "### Exercise 6.4\n",
    "Sort the following list of strings based on their lengths:\n",
    "text = [\"abc\", \"wxyz\", \"gh\", \"a\"]"
   ]
  },
  {
   "cell_type": "code",
   "execution_count": 31,
   "id": "540c0e37-e10c-4c62-a5a4-e884c7d5fb2c",
   "metadata": {},
   "outputs": [],
   "source": [
    "#Your code goes here"
   ]
  },
  {
   "cell_type": "markdown",
   "id": "0821638d-a0ee-4865-ae7c-b287590ba0f1",
   "metadata": {},
   "source": [
    "The **clear()** method removes all the elements from a list."
   ]
  },
  {
   "cell_type": "code",
   "execution_count": 32,
   "id": "99bdcf65-a5f9-4880-a20b-7ee4137bc535",
   "metadata": {},
   "outputs": [],
   "source": [
    "#Your code goes here"
   ]
  },
  {
   "cell_type": "markdown",
   "id": "d07b459d-b6a4-48b8-a717-5284c0a3da3c",
   "metadata": {},
   "source": [
    "The **pop()** method removes the element at the specified position."
   ]
  },
  {
   "cell_type": "code",
   "execution_count": 33,
   "id": "4ec6f71f-e354-4e49-91e5-d31cbff132cf",
   "metadata": {},
   "outputs": [],
   "source": [
    "#Your code goes here"
   ]
  },
  {
   "cell_type": "markdown",
   "id": "f7b65651-44df-4e6b-a157-d7d7133f2e6f",
   "metadata": {},
   "source": [
    "We can also use **del list_name[index]** to remove an element from a list (in the previous example, 9 is not a prime number) and thus shorten it. **del** is not a function or a method, but a statement in the language."
   ]
  },
  {
   "cell_type": "code",
   "execution_count": 34,
   "id": "c8313ed4-d028-444f-9f95-b26746597f93",
   "metadata": {},
   "outputs": [],
   "source": [
    "#Your code goes here"
   ]
  },
  {
   "cell_type": "markdown",
   "id": "fd4b4b7f-6505-49f2-82f3-13ecdbae7866",
   "metadata": {},
   "source": [
    "### Exercise 6.5\n",
    "Fill in the blanks so that the program below produces the output shown."
   ]
  },
  {
   "cell_type": "code",
   "execution_count": null,
   "id": "e34c0d69-7cfa-4506-a4d8-233e5dc857c4",
   "metadata": {},
   "outputs": [],
   "source": [
    "values = []\n",
    "values.____(1)\n",
    "values.____(3)\n",
    "values.____(5)\n",
    "print('first time:', values)\n",
    "values = values[___:]\n",
    "print('second time:', values)"
   ]
  },
  {
   "cell_type": "markdown",
   "id": "50ca1520-0200-4b81-9c20-fa55f25e055a",
   "metadata": {},
   "source": [
    "Desired output:\n",
    "\n",
    "first time: [1, 3, 5]\n",
    "\n",
    "second time: [3, 5]"
   ]
  },
  {
   "cell_type": "markdown",
   "id": "897e46e4-bdca-410a-b99b-3c78f2e81f24",
   "metadata": {},
   "source": [
    "The characters (individual letters, numbers, and so on) in a string are ordered. For example, the string 'AB' is not the same as 'BA'. Because of this ordering, we can treat the string as a list of characters. Each position in the string (first, second, etc.) is given a number. This number is called an index. Therefore, character strings can be indexed like lists. Indices are numbered from 0. We can use the position’s index in square brackets to get the character at that position. We can get single characters from a character string using indexes in square brackets."
   ]
  },
  {
   "cell_type": "code",
   "execution_count": 35,
   "id": "81d97c32-8d40-407a-be6f-e943f67fd656",
   "metadata": {},
   "outputs": [],
   "source": [
    "#Your code goes here"
   ]
  },
  {
   "cell_type": "markdown",
   "id": "1c07ab3e-aa4e-463d-a9fd-b6fe2ad05bb6",
   "metadata": {},
   "source": [
    "Note that character strings are immutable (unchangeable). Cannot change the characters in a string after it has been created. Immutable means the values can’t be changed after creation. In contrast, lists are mutable which means they can be modified in place. Python considers the string to be a single value with parts, not a collection of values."
   ]
  },
  {
   "cell_type": "code",
   "execution_count": 36,
   "id": "299b2e12-a1ba-4837-94cf-18ff04a80590",
   "metadata": {},
   "outputs": [],
   "source": [
    "#Your code goes here"
   ]
  },
  {
   "cell_type": "markdown",
   "id": "3a527a21-01d4-4082-b79d-d3afd015316b",
   "metadata": {},
   "source": [
    "Python reports an IndexError if we attempt to access a value that doesn’t exist."
   ]
  },
  {
   "cell_type": "code",
   "execution_count": 37,
   "id": "e430fde5-dd27-41b0-893a-089cd76baac7",
   "metadata": {},
   "outputs": [],
   "source": [
    "#Your code goes here"
   ]
  },
  {
   "cell_type": "markdown",
   "id": "a04582be-6a47-40e2-898b-91b77cb716b4",
   "metadata": {},
   "source": [
    "A part of a string is called a substring. A substring can be as short as a single character. An item in a list is called an element. Whenever we treat a string as if it were a list, the string’s elements are its individual characters. A slice is a part of a string (or, more generally, a part of any list-like thing). We take a slice with the notation [start:stop], where start is the integer index of the first element we want and stop is the integer index of the element just after the last element we want. The difference between stop and start is the slice’s length. Taking a slice does not change the contents of the original string. Instead, taking a slice returns a copy of part of the original string.\n",
    "\n"
   ]
  },
  {
   "cell_type": "code",
   "execution_count": 38,
   "id": "aa529609-0046-4440-a633-22d10afcf322",
   "metadata": {},
   "outputs": [],
   "source": [
    "#Your code goes here"
   ]
  },
  {
   "cell_type": "markdown",
   "id": "60483f04-0f6e-4f66-a7d2-73611b5406ca",
   "metadata": {},
   "source": [
    "### Exercise 6.6\n",
    "What does the following program print?\n",
    "\n",
    "atom_name = 'oxygen'\n",
    "\n",
    "print('atom_name[1:3] is:', atom_name[1:3])"
   ]
  },
  {
   "cell_type": "code",
   "execution_count": 39,
   "id": "00cb4a8f-27e9-4886-8d2b-9cc739ee3707",
   "metadata": {},
   "outputs": [],
   "source": [
    "#Your code goes here"
   ]
  }
 ],
 "metadata": {
  "kernelspec": {
   "display_name": "Python 3 (ipykernel)",
   "language": "python",
   "name": "python3"
  },
  "language_info": {
   "codemirror_mode": {
    "name": "ipython",
    "version": 3
   },
   "file_extension": ".py",
   "mimetype": "text/x-python",
   "name": "python",
   "nbconvert_exporter": "python",
   "pygments_lexer": "ipython3",
   "version": "3.12.7"
  }
 },
 "nbformat": 4,
 "nbformat_minor": 5
}
